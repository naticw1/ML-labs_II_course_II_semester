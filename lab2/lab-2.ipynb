{
 "cells": [
  {
   "cell_type": "markdown",
   "id": "1a23b9e8",
   "metadata": {},
   "source": [
    "Імпортуємо усі необхідні пакети."
   ]
  },
  {
   "cell_type": "code",
   "execution_count": 1,
   "id": "dd55f331",
   "metadata": {},
   "outputs": [],
   "source": [
    "import pandas as pd\n",
    "import seaborn as sns\n",
    "import matplotlib.pyplot as plt\n",
    "from scipy import stats"
   ]
  },
  {
   "cell_type": "markdown",
   "id": "fcab1c3d",
   "metadata": {},
   "source": [
    "Завантажуємо дані"
   ]
  },
  {
   "cell_type": "code",
   "execution_count": 2,
   "id": "6b5ca7e1",
   "metadata": {},
   "outputs": [
    {
     "data": {
      "text/html": [
       "<div>\n",
       "<style scoped>\n",
       "    .dataframe tbody tr th:only-of-type {\n",
       "        vertical-align: middle;\n",
       "    }\n",
       "\n",
       "    .dataframe tbody tr th {\n",
       "        vertical-align: top;\n",
       "    }\n",
       "\n",
       "    .dataframe thead th {\n",
       "        text-align: right;\n",
       "    }\n",
       "</style>\n",
       "<table border=\"1\" class=\"dataframe\">\n",
       "  <thead>\n",
       "    <tr style=\"text-align: right;\">\n",
       "      <th></th>\n",
       "      <th>Date</th>\n",
       "      <th>Value</th>\n",
       "      <th>Anomaly</th>\n",
       "    </tr>\n",
       "  </thead>\n",
       "  <tbody>\n",
       "    <tr>\n",
       "      <th>0</th>\n",
       "      <td>189501</td>\n",
       "      <td>17.6</td>\n",
       "      <td>-2.5</td>\n",
       "    </tr>\n",
       "    <tr>\n",
       "      <th>1</th>\n",
       "      <td>189601</td>\n",
       "      <td>17.2</td>\n",
       "      <td>-2.9</td>\n",
       "    </tr>\n",
       "    <tr>\n",
       "      <th>2</th>\n",
       "      <td>189701</td>\n",
       "      <td>19.3</td>\n",
       "      <td>-0.8</td>\n",
       "    </tr>\n",
       "    <tr>\n",
       "      <th>3</th>\n",
       "      <td>189801</td>\n",
       "      <td>20.8</td>\n",
       "      <td>0.7</td>\n",
       "    </tr>\n",
       "    <tr>\n",
       "      <th>4</th>\n",
       "      <td>189901</td>\n",
       "      <td>19.2</td>\n",
       "      <td>-0.9</td>\n",
       "    </tr>\n",
       "  </tbody>\n",
       "</table>\n",
       "</div>"
      ],
      "text/plain": [
       "     Date  Value  Anomaly\n",
       "0  189501   17.6     -2.5\n",
       "1  189601   17.2     -2.9\n",
       "2  189701   19.3     -0.8\n",
       "3  189801   20.8      0.7\n",
       "4  189901   19.2     -0.9"
      ]
     },
     "execution_count": 2,
     "metadata": {},
     "output_type": "execute_result"
    }
   ],
   "source": [
    "dataset = pd.read_csv(\"1895-2022.csv\")\n",
    "dataset.head()"
   ]
  },
  {
   "cell_type": "markdown",
   "id": "7b1c4a45",
   "metadata": {},
   "source": [
    "Змінюємо назву стовпців для використання"
   ]
  },
  {
   "cell_type": "code",
   "execution_count": 3,
   "id": "b4709be6",
   "metadata": {},
   "outputs": [
    {
     "data": {
      "text/html": [
       "<div>\n",
       "<style scoped>\n",
       "    .dataframe tbody tr th:only-of-type {\n",
       "        vertical-align: middle;\n",
       "    }\n",
       "\n",
       "    .dataframe tbody tr th {\n",
       "        vertical-align: top;\n",
       "    }\n",
       "\n",
       "    .dataframe thead th {\n",
       "        text-align: right;\n",
       "    }\n",
       "</style>\n",
       "<table border=\"1\" class=\"dataframe\">\n",
       "  <thead>\n",
       "    <tr style=\"text-align: right;\">\n",
       "      <th></th>\n",
       "      <th>Date</th>\n",
       "      <th>Temperature</th>\n",
       "      <th>Anomaly</th>\n",
       "    </tr>\n",
       "  </thead>\n",
       "  <tbody>\n",
       "    <tr>\n",
       "      <th>0</th>\n",
       "      <td>189501</td>\n",
       "      <td>17.6</td>\n",
       "      <td>-2.5</td>\n",
       "    </tr>\n",
       "    <tr>\n",
       "      <th>1</th>\n",
       "      <td>189601</td>\n",
       "      <td>17.2</td>\n",
       "      <td>-2.9</td>\n",
       "    </tr>\n",
       "    <tr>\n",
       "      <th>2</th>\n",
       "      <td>189701</td>\n",
       "      <td>19.3</td>\n",
       "      <td>-0.8</td>\n",
       "    </tr>\n",
       "    <tr>\n",
       "      <th>3</th>\n",
       "      <td>189801</td>\n",
       "      <td>20.8</td>\n",
       "      <td>0.7</td>\n",
       "    </tr>\n",
       "    <tr>\n",
       "      <th>4</th>\n",
       "      <td>189901</td>\n",
       "      <td>19.2</td>\n",
       "      <td>-0.9</td>\n",
       "    </tr>\n",
       "    <tr>\n",
       "      <th>...</th>\n",
       "      <td>...</td>\n",
       "      <td>...</td>\n",
       "      <td>...</td>\n",
       "    </tr>\n",
       "    <tr>\n",
       "      <th>123</th>\n",
       "      <td>201801</td>\n",
       "      <td>19.1</td>\n",
       "      <td>-1.0</td>\n",
       "    </tr>\n",
       "    <tr>\n",
       "      <th>124</th>\n",
       "      <td>201901</td>\n",
       "      <td>19.4</td>\n",
       "      <td>-0.7</td>\n",
       "    </tr>\n",
       "    <tr>\n",
       "      <th>125</th>\n",
       "      <td>202001</td>\n",
       "      <td>27.7</td>\n",
       "      <td>7.6</td>\n",
       "    </tr>\n",
       "    <tr>\n",
       "      <th>126</th>\n",
       "      <td>202101</td>\n",
       "      <td>24.0</td>\n",
       "      <td>3.9</td>\n",
       "    </tr>\n",
       "    <tr>\n",
       "      <th>127</th>\n",
       "      <td>202201</td>\n",
       "      <td>15.8</td>\n",
       "      <td>-4.3</td>\n",
       "    </tr>\n",
       "  </tbody>\n",
       "</table>\n",
       "<p>128 rows × 3 columns</p>\n",
       "</div>"
      ],
      "text/plain": [
       "       Date  Temperature  Anomaly\n",
       "0    189501         17.6     -2.5\n",
       "1    189601         17.2     -2.9\n",
       "2    189701         19.3     -0.8\n",
       "3    189801         20.8      0.7\n",
       "4    189901         19.2     -0.9\n",
       "..      ...          ...      ...\n",
       "123  201801         19.1     -1.0\n",
       "124  201901         19.4     -0.7\n",
       "125  202001         27.7      7.6\n",
       "126  202101         24.0      3.9\n",
       "127  202201         15.8     -4.3\n",
       "\n",
       "[128 rows x 3 columns]"
      ]
     },
     "execution_count": 3,
     "metadata": {},
     "output_type": "execute_result"
    }
   ],
   "source": [
    "dataset.columns = ['Date', 'Temperature', 'Anomaly']\n",
    "dataset"
   ]
  },
  {
   "cell_type": "markdown",
   "id": "50c4cdca",
   "metadata": {},
   "source": [
    "Перевіряємо тип колонки Date"
   ]
  },
  {
   "cell_type": "code",
   "execution_count": 4,
   "id": "f8d22fc1",
   "metadata": {},
   "outputs": [
    {
     "data": {
      "text/plain": [
       "dtype('int64')"
      ]
     },
     "execution_count": 4,
     "metadata": {},
     "output_type": "execute_result"
    }
   ],
   "source": [
    "dataset.Date.dtype"
   ]
  },
  {
   "cell_type": "markdown",
   "id": "30e1f9f6",
   "metadata": {},
   "source": [
    "Видалимо місяць із поля Date"
   ]
  },
  {
   "cell_type": "code",
   "execution_count": 5,
   "id": "b239d4d6",
   "metadata": {},
   "outputs": [
    {
     "data": {
      "text/html": [
       "<div>\n",
       "<style scoped>\n",
       "    .dataframe tbody tr th:only-of-type {\n",
       "        vertical-align: middle;\n",
       "    }\n",
       "\n",
       "    .dataframe tbody tr th {\n",
       "        vertical-align: top;\n",
       "    }\n",
       "\n",
       "    .dataframe thead th {\n",
       "        text-align: right;\n",
       "    }\n",
       "</style>\n",
       "<table border=\"1\" class=\"dataframe\">\n",
       "  <thead>\n",
       "    <tr style=\"text-align: right;\">\n",
       "      <th></th>\n",
       "      <th>Date</th>\n",
       "      <th>Temperature</th>\n",
       "      <th>Anomaly</th>\n",
       "    </tr>\n",
       "  </thead>\n",
       "  <tbody>\n",
       "    <tr>\n",
       "      <th>0</th>\n",
       "      <td>1895</td>\n",
       "      <td>17.6</td>\n",
       "      <td>-2.5</td>\n",
       "    </tr>\n",
       "    <tr>\n",
       "      <th>1</th>\n",
       "      <td>1896</td>\n",
       "      <td>17.2</td>\n",
       "      <td>-2.9</td>\n",
       "    </tr>\n",
       "    <tr>\n",
       "      <th>2</th>\n",
       "      <td>1897</td>\n",
       "      <td>19.3</td>\n",
       "      <td>-0.8</td>\n",
       "    </tr>\n",
       "    <tr>\n",
       "      <th>3</th>\n",
       "      <td>1898</td>\n",
       "      <td>20.8</td>\n",
       "      <td>0.7</td>\n",
       "    </tr>\n",
       "    <tr>\n",
       "      <th>4</th>\n",
       "      <td>1899</td>\n",
       "      <td>19.2</td>\n",
       "      <td>-0.9</td>\n",
       "    </tr>\n",
       "    <tr>\n",
       "      <th>...</th>\n",
       "      <td>...</td>\n",
       "      <td>...</td>\n",
       "      <td>...</td>\n",
       "    </tr>\n",
       "    <tr>\n",
       "      <th>123</th>\n",
       "      <td>2018</td>\n",
       "      <td>19.1</td>\n",
       "      <td>-1.0</td>\n",
       "    </tr>\n",
       "    <tr>\n",
       "      <th>124</th>\n",
       "      <td>2019</td>\n",
       "      <td>19.4</td>\n",
       "      <td>-0.7</td>\n",
       "    </tr>\n",
       "    <tr>\n",
       "      <th>125</th>\n",
       "      <td>2020</td>\n",
       "      <td>27.7</td>\n",
       "      <td>7.6</td>\n",
       "    </tr>\n",
       "    <tr>\n",
       "      <th>126</th>\n",
       "      <td>2021</td>\n",
       "      <td>24.0</td>\n",
       "      <td>3.9</td>\n",
       "    </tr>\n",
       "    <tr>\n",
       "      <th>127</th>\n",
       "      <td>2022</td>\n",
       "      <td>15.8</td>\n",
       "      <td>-4.3</td>\n",
       "    </tr>\n",
       "  </tbody>\n",
       "</table>\n",
       "<p>128 rows × 3 columns</p>\n",
       "</div>"
      ],
      "text/plain": [
       "     Date  Temperature  Anomaly\n",
       "0    1895         17.6     -2.5\n",
       "1    1896         17.2     -2.9\n",
       "2    1897         19.3     -0.8\n",
       "3    1898         20.8      0.7\n",
       "4    1899         19.2     -0.9\n",
       "..    ...          ...      ...\n",
       "123  2018         19.1     -1.0\n",
       "124  2019         19.4     -0.7\n",
       "125  2020         27.7      7.6\n",
       "126  2021         24.0      3.9\n",
       "127  2022         15.8     -4.3\n",
       "\n",
       "[128 rows x 3 columns]"
      ]
     },
     "execution_count": 5,
     "metadata": {},
     "output_type": "execute_result"
    }
   ],
   "source": [
    "dataset.Date = dataset.Date.floordiv(100)\n",
    "dataset"
   ]
  },
  {
   "cell_type": "markdown",
   "id": "17c3b41e",
   "metadata": {},
   "source": [
    "Побудуємо представлення даних DataFrame у вигляді регресійної прямої"
   ]
  },
  {
   "cell_type": "code",
   "execution_count": 6,
   "id": "11b547ab",
   "metadata": {
    "scrolled": true
   },
   "outputs": [
    {
     "data": {
      "image/png": "[encoded data removed]",
      "text/plain": [
       "<Figure size 720x360 with 1 Axes>"
      ]
     },
     "metadata": {
      "needs_background": "light"
     },
     "output_type": "display_data"
    }
   ],
   "source": [
    "sns.lmplot(x=\"Date\", y=\"Temperature\", data=dataset, aspect=2)\n",
    "plt.xticks(range(1895, 2018, 5), rotation=80)\n",
    "plt.show()"
   ]
  },
  {
   "cell_type": "markdown",
   "id": "add7077b",
   "metadata": {},
   "source": [
    "Спрогнозуємо дані темперратури на 2019, 2020, 2021 та 2022 рік."
   ]
  },
  {
   "cell_type": "code",
   "execution_count": 7,
   "id": "9a6bceee",
   "metadata": {},
   "outputs": [
    {
     "name": "stdout",
     "output_type": "stream",
     "text": [
      "Прогнозована температура в 2019 році: 20.90263172953671\n",
      "Прогнозована температура в 2020 році: 20.91556262589269\n",
      "Прогнозована температура в 2021 році: 20.92849352224867\n",
      "Прогнозована температура в 2022 році: 20.941424418604647\n"
     ]
    }
   ],
   "source": [
    "linear_regression = stats.linregress(x = dataset.Date, y = dataset.Temperature)\n",
    "predictions = [(linear_regression.slope * x + linear_regression.intercept) for x in range(2019, 2023)]\n",
    "for i, year in zip(predictions, range(2019,2023)):\n",
    "    print(f'Прогнозована температура в {year} році: {i}')"
   ]
  },
  {
   "cell_type": "markdown",
   "id": "35c0354a",
   "metadata": {},
   "source": [
    "Отримаємо можливі значення температури на січень 1886 року"
   ]
  },
  {
   "cell_type": "code",
   "execution_count": 8,
   "id": "81266fcb",
   "metadata": {
    "scrolled": true
   },
   "outputs": [
    {
     "name": "stdout",
     "output_type": "stream",
     "text": [
      "Можливе значення температури в 1886 році: 19.182822514191535\n"
     ]
    }
   ],
   "source": [
    "prediction = linear_regression.slope * 1886 + linear_regression.intercept\n",
    "print(f'Можливе значення температури в 1886 році: {prediction}')"
   ]
  },
  {
   "cell_type": "markdown",
   "id": "36e72a44",
   "metadata": {},
   "source": [
    "Виконаємо виведення усіх точок даних та також виконаємо маштабування"
   ]
  },
  {
   "cell_type": "code",
   "execution_count": 9,
   "id": "520baf70",
   "metadata": {},
   "outputs": [
    {
     "data": {
      "image/png": "[encoded data removed]",
      "text/plain": [
       "<Figure size 432x288 with 1 Axes>"
      ]
     },
     "metadata": {
      "needs_background": "light"
     },
     "output_type": "display_data"
    }
   ],
   "source": [
    "plt.clf()\n",
    "sns.set_style('whitegrid')\n",
    "axes = sns.regplot(x='Date', y='Temperature', data=dataset)\n",
    "axes.set_ylim(5, 40)\n",
    "plt.show()"
   ]
  },
  {
   "cell_type": "code",
   "execution_count": null,
   "id": "8ced52b6",
   "metadata": {},
   "outputs": [],
   "source": []
  }
 ],
 "metadata": {
  "kernelspec": {
   "display_name": "Python 3 (ipykernel)",
   "language": "python",
   "name": "python3"
  },
  "language_info": {
   "codemirror_mode": {
    "name": "ipython",
    "version": 3
   },
   "file_extension": ".py",
   "mimetype": "text/x-python",
   "name": "python",
   "nbconvert_exporter": "python",
   "pygments_lexer": "ipython3",
   "version": "3.9.12"
  }
 },
 "nbformat": 4,
 "nbformat_minor": 5
}
