{
 "cells": [
  {
   "cell_type": "markdown",
   "id": "1db7898d",
   "metadata": {},
   "source": [
    "## Завдання 1\n"
   ]
  },
  {
   "cell_type": "markdown",
   "id": "fcb7732c",
   "metadata": {},
   "source": [
    "    Імпортуємо необхідні пакети:"
   ]
  },
  {
   "cell_type": "code",
   "execution_count": 1,
   "id": "d4905545",
   "metadata": {},
   "outputs": [],
   "source": [
    "import matplotlib.pyplot as plt\n",
    "from sklearn.datasets import load_digits\n",
    "from sklearn.model_selection import train_test_split\n",
    "from sklearn.metrics import confusion_matrix\n",
    "from sklearn.metrics import classification_report\n",
    "from sklearn.naive_bayes import GaussianNB\n",
    "from sklearn.neighbors import KNeighborsClassifier\n",
    "from sklearn.svm import SVC"
   ]
  },
  {
   "cell_type": "markdown",
   "id": "1be9bba7",
   "metadata": {},
   "source": [
    "Завантажуємо вбудований в бібліотеку scikiklearn набір даних:"
   ]
  },
  {
   "cell_type": "code",
   "execution_count": 3,
   "id": "ba0a495f",
   "metadata": {},
   "outputs": [],
   "source": [
    "data_digits = load_digits()"
   ]
  },
  {
   "cell_type": "markdown",
   "id": "abfdaf87",
   "metadata": {},
   "source": [
    "Візуалізуємо перших 36 цифр з набору даних:"
   ]
  },
  {
   "cell_type": "code",
   "execution_count": 4,
   "id": "6006dc72",
   "metadata": {},
   "outputs": [
    {
     "data": {
      "image/png": "[encoded data removed]",
      "text/plain": [
       "<Figure size 576x432 with 36 Axes>"
      ]
     },
     "metadata": {},
     "output_type": "display_data"
    }
   ],
   "source": [
    "figure, axes = plt.subplots(nrows=6, ncols=6, figsize=(8,6))\n",
    "\n",
    "for ax, image, label in zip(axes.ravel(), data_digits.images, data_digits.target):\n",
    "    ax.imshow(image, cmap=plt.cm.gray_r)\n",
    "    ax.set_xticks([])\n",
    "    ax.set_yticks([])\n",
    "    ax.set_title(label)\n",
    "\n",
    "plt.tight_layout()\n",
    "plt.show()"
   ]
  },
  {
   "cell_type": "markdown",
   "id": "00e4fd82",
   "metadata": {},
   "source": [
    "## Завдання 2"
   ]
  },
  {
   "cell_type": "markdown",
   "id": "2d0c347c",
   "metadata": {},
   "source": [
    "Розіб'ємо дані на навчальні та тестові(75% до 25%): "
   ]
  },
  {
   "cell_type": "code",
   "execution_count": 6,
   "id": "cc863dac",
   "metadata": {},
   "outputs": [],
   "source": [
    "X_train, X_test, y_train, y_test = train_test_split(data_digits.data, data_digits.target, test_size=0.3)"
   ]
  },
  {
   "cell_type": "code",
   "execution_count": 7,
   "id": "7bdaed6c",
   "metadata": {},
   "outputs": [
    {
     "data": {
      "text/plain": [
       "(1257, 64)"
      ]
     },
     "execution_count": 7,
     "metadata": {},
     "output_type": "execute_result"
    }
   ],
   "source": [
    "X_train.shape"
   ]
  },
  {
   "cell_type": "code",
   "execution_count": 8,
   "id": "6dc7261a",
   "metadata": {},
   "outputs": [
    {
     "data": {
      "text/plain": [
       "(540, 64)"
      ]
     },
     "execution_count": 8,
     "metadata": {},
     "output_type": "execute_result"
    }
   ],
   "source": [
    "X_test.shape"
   ]
  },
  {
   "cell_type": "markdown",
   "id": "68339bdc",
   "metadata": {},
   "source": [
    "## Завдання 3"
   ]
  },
  {
   "cell_type": "markdown",
   "id": "385a5075",
   "metadata": {},
   "source": [
    "Створюємо та начаємо модель:"
   ]
  },
  {
   "cell_type": "code",
   "execution_count": 9,
   "id": "a3f14257",
   "metadata": {},
   "outputs": [
    {
     "data": {
      "text/plain": [
       "KNeighborsClassifier()"
      ]
     },
     "execution_count": 9,
     "metadata": {},
     "output_type": "execute_result"
    }
   ],
   "source": [
    "KNN = KNeighborsClassifier()\n",
    "KNN.fit(X=X_train, y=y_train)"
   ]
  },
  {
   "cell_type": "markdown",
   "id": "32b25e76",
   "metadata": {},
   "source": [
    "## Завдання4"
   ]
  },
  {
   "cell_type": "markdown",
   "id": "3ce2f26f",
   "metadata": {},
   "source": [
    "Виконуємо прогнозування  класів"
   ]
  },
  {
   "cell_type": "code",
   "execution_count": 10,
   "id": "98812966",
   "metadata": {},
   "outputs": [],
   "source": [
    "import warnings\n",
    "\n",
    "\n",
    "warnings.filterwarnings('ignore', category=FutureWarning)\n",
    "\n",
    "# Make predictions\n",
    "predicted = KNN.predict(X_test)\n",
    "expected = y_test\n"
   ]
  },
  {
   "cell_type": "markdown",
   "id": "38f7cef4",
   "metadata": {},
   "source": [
    "## Завдання 5"
   ]
  },
  {
   "cell_type": "markdown",
   "id": "06744b67",
   "metadata": {},
   "source": [
    "Порівняємо прогнозовані цифри з очікуваними"
   ]
  },
  {
   "cell_type": "code",
   "execution_count": 11,
   "id": "407f17a6",
   "metadata": {},
   "outputs": [
    {
     "data": {
      "text/plain": [
       "array([9, 9, 6, 0, 4, 1, 4, 8, 1, 4, 3, 5, 3, 8, 4, 1, 7, 2, 3, 7, 8, 3,\n",
       "       1, 7, 6, 4, 1, 1, 3, 9, 7, 2, 9, 6, 6, 3])"
      ]
     },
     "execution_count": 11,
     "metadata": {},
     "output_type": "execute_result"
    }
   ],
   "source": [
    "predicted[:36]"
   ]
  },
  {
   "cell_type": "code",
   "execution_count": 12,
   "id": "a38ffb37",
   "metadata": {},
   "outputs": [
    {
     "data": {
      "text/plain": [
       "array([9, 9, 6, 0, 4, 1, 4, 8, 1, 4, 3, 5, 3, 8, 4, 1, 7, 2, 3, 7, 8, 3,\n",
       "       1, 7, 6, 4, 1, 1, 3, 9, 7, 2, 9, 6, 6, 3])"
      ]
     },
     "execution_count": 12,
     "metadata": {},
     "output_type": "execute_result"
    }
   ],
   "source": [
    "expected[:36]"
   ]
  },
  {
   "cell_type": "markdown",
   "id": "f06f0ebe",
   "metadata": {},
   "source": [
    "## Завдання 6"
   ]
  },
  {
   "cell_type": "markdown",
   "id": "fff8bd37",
   "metadata": {},
   "source": [
    "Оцінимо якість моделі використовуючи метод score"
   ]
  },
  {
   "cell_type": "code",
   "execution_count": 13,
   "id": "4cb4104e",
   "metadata": {},
   "outputs": [
    {
     "name": "stdout",
     "output_type": "stream",
     "text": [
      "Точність: 98.70%\n"
     ]
    }
   ],
   "source": [
    "print(f'Точність: {KNN.score(X_test, y_test):.2%}')"
   ]
  },
  {
   "cell_type": "markdown",
   "id": "3c065a76",
   "metadata": {},
   "source": [
    "Створимо та виведемо матрицю невідповідностей"
   ]
  },
  {
   "cell_type": "code",
   "execution_count": 14,
   "id": "6b607b66",
   "metadata": {},
   "outputs": [
    {
     "data": {
      "text/plain": [
       "array([[47,  0,  0,  0,  0,  0,  0,  0,  0,  0],\n",
       "       [ 0, 62,  0,  0,  0,  0,  0,  0,  0,  0],\n",
       "       [ 0,  0, 52,  0,  0,  0,  0,  0,  0,  0],\n",
       "       [ 0,  0,  0, 57,  0,  0,  0,  2,  0,  1],\n",
       "       [ 0,  0,  0,  0, 51,  0,  0,  1,  0,  0],\n",
       "       [ 0,  0,  0,  0,  0, 63,  0,  0,  0,  0],\n",
       "       [ 0,  0,  0,  0,  0,  0, 58,  0,  0,  0],\n",
       "       [ 0,  0,  0,  0,  0,  0,  0, 43,  0,  0],\n",
       "       [ 0,  2,  0,  0,  0,  0,  0,  0, 49,  0],\n",
       "       [ 0,  0,  0,  0,  0,  0,  0,  0,  1, 51]], dtype=int64)"
      ]
     },
     "execution_count": 14,
     "metadata": {},
     "output_type": "execute_result"
    }
   ],
   "source": [
    "confusion = confusion_matrix(y_true=expected, y_pred=predicted)\n",
    "confusion"
   ]
  },
  {
   "cell_type": "markdown",
   "id": "3dc58d3f",
   "metadata": {},
   "source": [
    "## Завдання 7"
   ]
  },
  {
   "cell_type": "markdown",
   "id": "598db707",
   "metadata": {},
   "source": [
    "Використовуючи функцію sklearn.metrics виведемо звіт класифікації"
   ]
  },
  {
   "cell_type": "code",
   "execution_count": 15,
   "id": "a27ebf69",
   "metadata": {},
   "outputs": [
    {
     "name": "stdout",
     "output_type": "stream",
     "text": [
      "              precision    recall  f1-score   support\n",
      "\n",
      "           0       1.00      1.00      1.00        47\n",
      "           1       0.97      1.00      0.98        62\n",
      "           2       1.00      1.00      1.00        52\n",
      "           3       1.00      0.95      0.97        60\n",
      "           4       1.00      0.98      0.99        52\n",
      "           5       1.00      1.00      1.00        63\n",
      "           6       1.00      1.00      1.00        58\n",
      "           7       0.93      1.00      0.97        43\n",
      "           8       0.98      0.96      0.97        51\n",
      "           9       0.98      0.98      0.98        52\n",
      "\n",
      "    accuracy                           0.99       540\n",
      "   macro avg       0.99      0.99      0.99       540\n",
      "weighted avg       0.99      0.99      0.99       540\n",
      "\n"
     ]
    }
   ],
   "source": [
    "names = [str(digit) for digit in data_digits.target_names]\n",
    "print(classification_report(expected, predicted, target_names=names))"
   ]
  },
  {
   "cell_type": "markdown",
   "id": "82b4c183",
   "metadata": {},
   "source": [
    "## Завдання 8"
   ]
  },
  {
   "cell_type": "markdown",
   "id": "6fbd84b8",
   "metadata": {},
   "source": [
    "Для пошуку кращої моделі створимо та навчимо моделі SVC та GaussianNB"
   ]
  },
  {
   "cell_type": "code",
   "execution_count": 16,
   "id": "37a1aa76",
   "metadata": {},
   "outputs": [
    {
     "data": {
      "text/plain": [
       "GaussianNB()"
      ]
     },
     "execution_count": 16,
     "metadata": {},
     "output_type": "execute_result"
    }
   ],
   "source": [
    "SVC = SVC(kernel='linear')\n",
    "SVC.fit(X_train, y_train)\n",
    "\n",
    "GNB = GaussianNB()\n",
    "GNB.fit(X_train, y_train)"
   ]
  },
  {
   "cell_type": "markdown",
   "id": "76148c60",
   "metadata": {},
   "source": [
    "Оцінимо якість моделей використовуючи метод score"
   ]
  },
  {
   "cell_type": "code",
   "execution_count": 19,
   "id": "9ed1874d",
   "metadata": {},
   "outputs": [
    {
     "name": "stdout",
     "output_type": "stream",
     "text": [
      "Точність KNN: 98.70%\n",
      "Точність SVC: 99.07%\n",
      "Точність GaussianNB: 82.22%\n"
     ]
    }
   ],
   "source": [
    "print(f'Точність KNN: {KNN.score(X_test, y_test):.2%}')\n",
    "print(f'Точність SVC: {SVC.score(X_test, y_test):.2%}')\n",
    "print(f'Точність GaussianNB: {GNB.score(X_test, y_test):.2%}')"
   ]
  },
  {
   "cell_type": "markdown",
   "id": "fd2cb31a",
   "metadata": {},
   "source": [
    "Як бачимо в даному випадку найгіршим виявся GaussianNB"
   ]
  },
  {
   "cell_type": "markdown",
   "id": "78a676ae",
   "metadata": {},
   "source": [
    "## Завдання 9"
   ]
  },
  {
   "cell_type": "markdown",
   "id": "5ed7c3fa",
   "metadata": {},
   "source": [
    "Поекспериментуємо з різними значеннями k і порівняємо їх ефективність"
   ]
  },
  {
   "cell_type": "code",
   "execution_count": 20,
   "id": "95668b01",
   "metadata": {},
   "outputs": [
    {
     "name": "stdout",
     "output_type": "stream",
     "text": [
      "При К рівне 1, точність : 98.52%\n",
      "При К рівне 2, точність : 98.15%\n",
      "При К рівне 3, точність : 98.33%\n",
      "При К рівне 4, точність : 98.33%\n",
      "При К рівне 5, точність : 98.70%\n",
      "При К рівне 6, точність : 98.70%\n",
      "При К рівне 7, точність : 98.70%\n",
      "При К рівне 8, точність : 98.33%\n",
      "При К рівне 9, точність : 98.15%\n",
      "При К рівне 10, точність : 98.15%\n",
      "При К рівне 11, точність : 97.96%\n",
      "При К рівне 12, точність : 98.15%\n",
      "При К рівне 13, точність : 98.15%\n",
      "При К рівне 14, точність : 97.96%\n",
      "При К рівне 15, точність : 97.96%\n",
      "При К рівне 16, точність : 97.96%\n",
      "При К рівне 17, точність : 97.78%\n",
      "При К рівне 18, точність : 97.78%\n",
      "При К рівне 19, точність : 97.41%\n"
     ]
    }
   ],
   "source": [
    "for n in range(1, 20):\n",
    "    KNN = KNeighborsClassifier(n_neighbors=n)\n",
    "    KNN.fit(X=X_train, y=y_train)\n",
    "    print(f'При К рівне {n}, точність : {KNN.score(X_test, y_test):.2%}')"
   ]
  },
  {
   "cell_type": "markdown",
   "id": "1c906f8b",
   "metadata": {},
   "source": [
    "В даному випадку найкращими параметрами стали декілька, а саме k = 5, k = 6, k = 7. Отже значення параметру \n",
    "за замовчуванням (k=5) є ефективним"
   ]
  }
 ],
 "metadata": {
  "kernelspec": {
   "display_name": "Python 3 (ipykernel)",
   "language": "python",
   "name": "python3"
  },
  "language_info": {
   "codemirror_mode": {
    "name": "ipython",
    "version": 3
   },
   "file_extension": ".py",
   "mimetype": "text/x-python",
   "name": "python",
   "nbconvert_exporter": "python",
   "pygments_lexer": "ipython3",
   "version": "3.9.12"
  }
 },
 "nbformat": 4,
 "nbformat_minor": 5
}
